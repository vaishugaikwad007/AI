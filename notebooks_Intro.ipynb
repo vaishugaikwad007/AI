{
  "metadata": {
    "kernelspec": {
      "name": "python",
      "display_name": "Python (Pyodide)",
      "language": "python"
    },
    "language_info": {
      "codemirror_mode": {
        "name": "python",
        "version": 3
      },
      "file_extension": ".py",
      "mimetype": "text/x-python",
      "name": "python",
      "nbconvert_exporter": "python",
      "pygments_lexer": "ipython3",
      "version": "3.8"
    }
  },
  "nbformat_minor": 5,
  "nbformat": 4,
  "cells": [
    {
      "cell_type": "markdown",
      "source": "# This is Vaishnavi Gaikwad \n# Predict the percentage of an student based on the no. of study hours.",
      "metadata": {},
      "id": "046829d5-32fa-4435-ae61-7ced1170c463"
    },
    {
      "cell_type": "markdown",
      "source": "Importing the libraries",
      "metadata": {},
      "id": "c9c5f349-ec7d-4242-adc2-82500c4fb79a"
    },
    {
      "cell_type": "code",
      "source": "import pandas as pd\nimport numpy as np\nimport matplotlib.pyplot as plt  \n%matplotlib inline ",
      "metadata": {
        "trusted": true
      },
      "execution_count": null,
      "outputs": [],
      "id": "9e553ff5-af8c-40bc-9e34-085a14d96081"
    },
    {
      "cell_type": "markdown",
      "source": " Importing the dataset",
      "metadata": {},
      "id": "7518a5ae-5d50-421a-984e-5817f8fd49da"
    },
    {
      "cell_type": "code",
      "source": "data = pd.read_csv(\"data.csv\")\nprint(\"Importing Data Successfully\")",
      "metadata": {
        "trusted": true
      },
      "execution_count": null,
      "outputs": [],
      "id": "34226c5b-c709-4a7e-9a91-8b5364709d57"
    },
    {
      "cell_type": "markdown",
      "source": "Plotting the dataset to understand the relation between hours studied and scores.",
      "metadata": {},
      "id": "80a27861-7365-4268-b108-8b8e4fa5e8ef"
    },
    {
      "cell_type": "code",
      "source": "plt.scatter(X, Y, color = 'red',marker='o')\nplt.title('Percentage vs No.Of Hours Studied')\nplt.xlabel('No.Of Hours Studied')\nplt.ylabel('Percentage')\nplt.show()\n",
      "metadata": {
        "trusted": true
      },
      "execution_count": null,
      "outputs": [],
      "id": "11583552-d22a-435c-9c79-d0e6c9f477d0"
    },
    {
      "cell_type": "markdown",
      "source": "Now, we have prepared tha data for our model",
      "metadata": {},
      "id": "bcc1e99a-2535-49c5-9bd3-493cc805f919"
    },
    {
      "cell_type": "code",
      "source": "X = data.iloc[:, :-1].values  \ny = data.iloc[:, 1].values  \n# print(X)",
      "metadata": {
        "trusted": true
      },
      "execution_count": null,
      "outputs": [],
      "id": "e33e9ae8-0d86-476d-8f09-723721a6e786"
    },
    {
      "cell_type": "markdown",
      "source": "Now , we have divide the data for tarining & testing the model",
      "metadata": {},
      "id": "f8f53667-4368-465c-b8ee-653d33558c60"
    },
    {
      "cell_type": "code",
      "source": "from sklearn.model_selection import train_test_split  \nX_train, X_test, y_train, y_test = train_test_split(X, y, \n                            test_size=0.2, random_state=0) ",
      "metadata": {
        "trusted": true
      },
      "execution_count": null,
      "outputs": [],
      "id": "3fd5b1a2-69bc-4383-ab48-d8521363ae4f"
    },
    {
      "cell_type": "markdown",
      "source": "Training the Algorithm",
      "metadata": {},
      "id": "1470cf17-8fff-4be5-b4e2-e91b2ccc2074"
    },
    {
      "cell_type": "code",
      "source": "from sklearn.linear_model import LinearRegression\nregressor = LinearRegression() \n\nregressor.fit(X_train, y_train) \nprint(\"Training complete.\")",
      "metadata": {
        "trusted": true
      },
      "execution_count": null,
      "outputs": [],
      "id": "a120e344-738f-4879-8920-fa7f7f0e1763"
    },
    {
      "cell_type": "markdown",
      "source": "Now, our Model is ready . Its time to test it .",
      "metadata": {},
      "id": "b7d2462a-fd7d-4f0d-941a-e2a9d3fe53f2"
    },
    {
      "cell_type": "code",
      "source": "print(X_test) \nprint(\"Predection of Score\")\ny_pred = regressor.predict(X_test)\nprint(y_pred)",
      "metadata": {
        "trusted": true
      },
      "execution_count": null,
      "outputs": [],
      "id": "4b64035a-1e9f-47de-9174-5a871907919f"
    },
    {
      "cell_type": "markdown",
      "source": "Now, Checking the accuracy of our model",
      "metadata": {},
      "id": "24078020-fde0-4b94-b5cb-f5caa0af4e9b"
    },
    {
      "cell_type": "code",
      "source": "df = pd.DataFrame({'Actual': y_test, 'Predicted': y_pred})  \ndf",
      "metadata": {
        "trusted": true
      },
      "execution_count": null,
      "outputs": [],
      "id": "122c6218-ee11-4623-8b09-d3d908f277d1"
    },
    {
      "cell_type": "markdown",
      "source": "Now, Its times to prediction with custom input",
      "metadata": {},
      "id": "960fff8f-a798-409d-8a9f-8865eec19222"
    },
    {
      "cell_type": "code",
      "source": "hours = [[9.25]]\npred = regressor.predict(hours)\nprint(pred)",
      "metadata": {
        "trusted": true
      },
      "execution_count": null,
      "outputs": [],
      "id": "8cca0afb-b029-4a6a-9932-f628b33b36c0"
    },
    {
      "cell_type": "markdown",
      "source": "Evaluating the model",
      "metadata": {},
      "id": "eb37cd2c-bfd8-4bd0-b61c-c269134c495d"
    },
    {
      "cell_type": "code",
      "source": "from sklearn import metrics  \nprint('Mean Absolute Error:', \n      metrics.mean_absolute_error(y_test, y_pred)) ",
      "metadata": {
        "trusted": true
      },
      "execution_count": null,
      "outputs": [],
      "id": "6b5ea1d1-f7f5-416f-9dd2-2187e5c7b4fd"
    }
  ]
}